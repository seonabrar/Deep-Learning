{
 "cells": [
  {
   "cell_type": "markdown",
   "metadata": {},
   "source": [
    "#  Deep Learning : Training DL networks\n",
    "\n"
   ]
  },
  {
   "cell_type": "markdown",
   "metadata": {},
   "source": [
    "## Part 1. Writing a custom dataset based on Fashion-MNIST "
   ]
  },
  {
   "cell_type": "markdown",
   "metadata": {},
   "source": [
    "### Part 1.1. Define a Dataset class "
   ]
  },
  {
   "cell_type": "code",
   "execution_count": 1,
   "metadata": {},
   "outputs": [
    {
     "name": "stdout",
     "output_type": "stream",
     "text": [
      "Requirement already satisfied: onedrivedownloader in /opt/conda/lib/python3.10/site-packages (1.1.3)\n",
      "Requirement already satisfied: tqdm in /opt/conda/lib/python3.10/site-packages (from onedrivedownloader) (4.64.1)\n",
      "Requirement already satisfied: requests in /opt/conda/lib/python3.10/site-packages (from onedrivedownloader) (2.28.1)\n",
      "Requirement already satisfied: idna<4,>=2.5 in /opt/conda/lib/python3.10/site-packages (from requests->onedrivedownloader) (3.4)\n",
      "Requirement already satisfied: urllib3<1.27,>=1.21.1 in /opt/conda/lib/python3.10/site-packages (from requests->onedrivedownloader) (1.26.11)\n",
      "Requirement already satisfied: charset-normalizer<3,>=2 in /opt/conda/lib/python3.10/site-packages (from requests->onedrivedownloader) (2.1.1)\n",
      "Requirement already satisfied: certifi>=2017.4.17 in /opt/conda/lib/python3.10/site-packages (from requests->onedrivedownloader) (2022.9.24)\n"
     ]
    }
   ],
   "source": [
    "!pip install onedrivedownloader"
   ]
  },
  {
   "cell_type": "code",
   "execution_count": 2,
   "metadata": {},
   "outputs": [],
   "source": [
    "from onedrivedownloader import download\n",
    "import os\n",
    "\n",
    "link = 'https://unioulu-my.sharepoint.com/:u:/g/personal/hliu22_univ_yo_oulu_fi/EatDho3877JMlYugij_sKBkBqRz5s8hvmC1DQb0LT-W-lA?e=vkdebU'\n",
    "\n",
    "if not os.path.exists('./data/fashion_mnist_npy'):\n",
    "    print('Downloading dataset')\n",
    "    download(link, filename=\"./fashion_mnist_npy_hw3.zip\", unzip=True, unzip_path='./data/fashion_mnist_npy')"
   ]
  },
  {
   "cell_type": "code",
   "execution_count": 3,
   "metadata": {},
   "outputs": [],
   "source": [
    "# import necessary packages\n",
    "import os \n",
    "import torch \n",
    "import requests, zipfile, sys\n",
    "import numpy as np\n",
    "import matplotlib.pyplot as plt \n",
    "from torch.utils.data import Dataset, DataLoader\n",
    "import torchvision\n",
    "from PIL import Image\n",
    "import torch\n",
    "import torch.nn as nn\n",
    "import torch.nn.functional as F\n",
    "import torch.optim as optim\n",
    "from torchvision import transforms\n",
    "\n",
    "\n",
    "# fashion_MNIST dataset \n",
    "data_dir='./data/fashion_mnist_npy/'\n",
    "train_data = np.load(os.path.join(data_dir, 'train_data.npy'))\n",
    "test_data = np.load(os.path.join(data_dir, 'test_data.npy'))\n",
    "train_label = np.load(os.path.join(data_dir, 'train_labels.npy'))\n",
    "test_label = np.load(os.path.join(data_dir, 'test_labels.npy'))\n",
    "\n",
    "# select 5 classes\n",
    "selected_classes = [0, 1, 2, 3, 4]\n",
    "\n",
    "# choose the data from the selected 5 classes\n",
    "train_mask = np.isin(train_label, selected_classes)\n",
    "train_data = train_data[train_mask]\n",
    "train_label = train_label[train_mask]\n",
    "\n",
    "test_mask = np.isin(test_label, selected_classes)\n",
    "test_data = test_data[test_mask]\n",
    "test_label = test_label[test_mask]\n",
    "\n",
    "# split the training data to a new training data and validation data\n",
    "class_indices = [[] for i in range(5)]\n",
    "for i, v in enumerate(train_label):\n",
    "    class_indices[v].append(i)\n",
    "\n",
    "indices_all = np.random.permutation(len(class_indices[0]))\n",
    "# take the first 1000 indices of indices_all\n",
    "indices = indices_all[:1000]\n",
    "# take the rest of the indices of indices_all\n",
    "indices_rest = indices_all[1000:]\n",
    "\n",
    "valid_indices = []\n",
    "train_indices = []\n",
    "for i in range(5):\n",
    "    # build indices for validation set\n",
    "    valid_indices.extend(np.array(class_indices[i])[indices])\n",
    "    # TODO: build indices for training set (0.25 points)\n",
    "    # your code here \n",
    "    train_indices.extend(np.array(class_indices[i])[indices_rest])\n",
    "    \n",
    "    \n",
    "# write the custom dataset based on the dataset\n",
    "class FashionMnist(Dataset):\n",
    "    \"\"\"Fashion Mnist dataset\"\"\" \n",
    "\n",
    "    def __init__(self, phase='train', transform=None):\n",
    "\n",
    "        # TODO: now, split the predefined training data (1.5 points)\n",
    "        # Make the examples of training, valid, and test as 25000, 5000 and 5000, and make samples in each category be balance.\n",
    "        if 'train' == phase:\n",
    "            # your code here\n",
    "            self.data = train_data[train_indices]\n",
    "            self.label = train_label[train_indices]            \n",
    "\n",
    "        elif 'valid' == phase:\n",
    "            # your code here \n",
    "            self.data = train_data[valid_indices]\n",
    "            self.label = train_label[valid_indices]           \n",
    "\n",
    "        elif 'test' == phase:\n",
    "            # your code here\n",
    "            self.data = test_data\n",
    "            self.label = test_label               \n",
    "\n",
    "        else:\n",
    "            assert True, 'wrong phase'\n",
    "            \n",
    "\n",
    "        self.transform = transform \n",
    "        \n",
    "        self.label_names = ['T-shirt/top', 'Trouser', 'Pullover', 'Dress', 'Coat']\n",
    "\n",
    "    def __len__(self):\n",
    "        return len(self.data)\n",
    "\n",
    "    def __getitem__(self, index):\n",
    "        \n",
    "        # TODO: get image and label according to the index (0.25 points)\n",
    "        # your code here \n",
    "        img, label = self.data[index], self.label[index]        \n",
    "\n",
    "        # doing this so that it is consistent with all other datasets\n",
    "        # to return a PIL Image\n",
    "        img = Image.fromarray(img, mode='L')\n",
    "\n",
    "        if self.transform is not None:\n",
    "            img = self.transform(img)\n",
    "\n",
    "        return img, label\n"
   ]
  },
  {
   "cell_type": "markdown",
   "metadata": {},
   "source": [
    "### Part 1.2. Dataset checking "
   ]
  },
  {
   "cell_type": "code",
   "execution_count": 4,
   "metadata": {},
   "outputs": [
    {
     "data": {
      "image/png": "[encoded data removed]",
      "text/plain": [
       "<Figure size 1600x800 with 5 Axes>"
      ]
     },
     "metadata": {},
     "output_type": "display_data"
    },
    {
     "name": "stdout",
     "output_type": "stream",
     "text": [
      "total number of training set: 25000\n",
      "numer of images for class T-shirt/top: 5000\n",
      "numer of images for class Trouser: 5000\n",
      "numer of images for class Pullover: 5000\n",
      "numer of images for class Dress: 5000\n",
      "numer of images for class Coat: 5000\n"
     ]
    }
   ],
   "source": [
    "# checking training set\n",
    "# randomly show some samples and their labels\n",
    "# TODO: create a FashionMnist dataset for training, set transform to None (0.5 points)\n",
    "# your code here\n",
    "train_set = FashionMnist(phase='train', transform=None) #this is the first 0.25 points, see the rest 0.25 points in Part 1.3\n",
    "\n",
    "num_to_show = 5\n",
    "idx = np.random.choice(range(len(train_set)), num_to_show, replace=False) # randomly pick 5 pictures to show\n",
    "\n",
    "fig = plt.figure(figsize=(16, 8))\n",
    "\n",
    "for i in range(len(idx)):\n",
    "    image, label = train_set[idx[i]] \n",
    "    label_name = train_set.label_names[label]\n",
    "\n",
    "    ax = plt.subplot(1, num_to_show, i + 1)\n",
    "    plt.tight_layout()\n",
    "    ax.set_title('class #{}'.format(label_name))\n",
    "    ax.axis('off')\n",
    "    plt.imshow(np.asarray(image))\n",
    "\n",
    "plt.show()\n",
    "\n",
    "# print number of images for each class\n",
    "print('total number of training set: {}'.format(len(train_set)))\n",
    "for i in range(5):\n",
    "    print('numer of images for class {}: {}'.format(train_set.label_names[i], np.sum(train_set.label==i)))"
   ]
  },
  {
   "cell_type": "code",
   "execution_count": 5,
   "metadata": {},
   "outputs": [
    {
     "data": {
      "image/png": "[encoded data removed]",
      "text/plain": [
       "<Figure size 1600x800 with 5 Axes>"
      ]
     },
     "metadata": {},
     "output_type": "display_data"
    },
    {
     "name": "stdout",
     "output_type": "stream",
     "text": [
      "total number of validation set: 5000\n",
      "numer of images for class T-shirt/top: 1000\n",
      "numer of images for class Trouser: 1000\n",
      "numer of images for class Pullover: 1000\n",
      "numer of images for class Dress: 1000\n",
      "numer of images for class Coat: 1000\n"
     ]
    }
   ],
   "source": [
    "# TODO:checking validation data (1 points)\n",
    "# your code here, like the training set, the output in this section should be like this (you can have your own visualization style)\n",
    "valid_set = FashionMnist(phase='valid', transform=None)  #this is the first 0.25 points, see the rest 0.25 points in Part 1.3\n",
    "\n",
    "num_to_show = 5\n",
    "idx = np.random.choice(range(len(valid_set)), num_to_show, replace=False) # randomly pick 5 pictures to show\n",
    "\n",
    "fig = plt.figure(figsize=(16, 8))\n",
    "\n",
    "for i in range(len(idx)):\n",
    "    image, label = valid_set[idx[i]] \n",
    "    label_name = valid_set.label_names[label]\n",
    "\n",
    "    ax = plt.subplot(1, num_to_show, i + 1)\n",
    "    plt.tight_layout()\n",
    "    ax.set_title('class #{}'.format(label_name))\n",
    "    ax.axis('off')\n",
    "#   plt.imshow(np.asarray(image).squeeze(), cmap='gray')\n",
    "    plt.imshow(np.asarray(image))\n",
    "\n",
    "plt.show()\n",
    "\n",
    "# print number of images for each class\n",
    "print('total number of validation set: {}'.format(len(valid_set)))\n",
    "for i in range(5):\n",
    "    print('numer of images for class {}: {}'.format(valid_set.label_names[i], np.sum(valid_set.label==i)))\n",
    "\n"
   ]
  },
  {
   "cell_type": "code",
   "execution_count": 6,
   "metadata": {},
   "outputs": [
    {
     "data": {
      "image/png": "[encoded data removed]",
      "text/plain": [
       "<Figure size 1600x800 with 5 Axes>"
      ]
     },
     "metadata": {},
     "output_type": "display_data"
    },
    {
     "name": "stdout",
     "output_type": "stream",
     "text": [
      "total number of testing set: 5000\n",
      "numer of images for class T-shirt/top: 1000\n",
      "numer of images for class Trouser: 1000\n",
      "numer of images for class Pullover: 1000\n",
      "numer of images for class Dress: 1000\n",
      "numer of images for class Coat: 1000\n"
     ]
    }
   ],
   "source": [
    "# TODO: checking testing data (1 points)\n",
    "# your code here\n",
    "test_set = FashionMnist(phase='test', transform=None)  #this is the first 0.25 points, see the rest 0.25 points in Part 1.3\n",
    "\n",
    "num_to_show = 5\n",
    "idx = np.random.choice(range(len(test_set)), num_to_show, replace=False) # randomly pick 5 pictures to show\n",
    "\n",
    "fig = plt.figure(figsize=(16, 8))\n",
    "\n",
    "for i in range(len(idx)):\n",
    "    image, label = test_set[idx[i]] \n",
    "    label_name = test_set.label_names[label]\n",
    "\n",
    "    ax = plt.subplot(1, num_to_show, i + 1)\n",
    "    plt.tight_layout()\n",
    "    ax.set_title('class #{}'.format(label_name))\n",
    "    ax.axis('off')\n",
    "#   plt.imshow(np.asarray(image).squeeze(), cmap='gray')\n",
    "    plt.imshow(np.asarray(image))\n",
    "\n",
    "plt.show()\n",
    "\n",
    "# print number of images for each class\n",
    "print('total number of testing set: {}'.format(len(test_set)))\n",
    "for i in range(5):\n",
    "    print('numer of images for class {}: {}'.format(test_set.label_names[i], np.sum(test_set.label==i)))\n",
    "\n",
    "\n"
   ]
  },
  {
   "cell_type": "markdown",
   "metadata": {},
   "source": [
    "### Part 1.3. Iterating through the dataset with batches \n"
   ]
  },
  {
   "cell_type": "code",
   "execution_count": 7,
   "metadata": {},
   "outputs": [],
   "source": [
    "# Set batch_size to 64, shuffling the training set. Number of workers here is set to 0. If your system is Linux, \n",
    "# it is possible to try more workers to do multi-process parallel reading.\n",
    "data_transform = transforms.Compose([transforms.ToTensor()])\n",
    "\n",
    "train_set = FashionMnist(phase='train', transform=data_transform) #the other 0.25 points for create a FashionMnist dataset for training\n",
    "train_loader = DataLoader(train_set, batch_size=64, shuffle=True, num_workers=0)\n",
    "\n",
    "# TODO: create test_loader and valid_loader, both with no shuffling (1 points)\n",
    "# your code here \n",
    "test_set = FashionMnist(phase='test', transform=data_transform)\n",
    "test_loader = DataLoader(test_set, batch_size=64, shuffle=False, num_workers=0)\n",
    "valid_set = FashionMnist(phase='valid', transform=data_transform)\n",
    "valid_loader = DataLoader(valid_set, batch_size=64, shuffle=False, num_workers=0)\n"
   ]
  },
  {
   "cell_type": "markdown",
   "metadata": {},
   "source": [
    "## Part 2. Build a CNN on your own "
   ]
  },
  {
   "cell_type": "markdown",
   "metadata": {},
   "source": [
    "To define your own Network, following the rule of thumb:\n",
    "1. Define the layers in `__init__`.\n",
    "2. Do the forward calculation in `forward`."
   ]
  },
  {
   "cell_type": "code",
   "execution_count": 8,
   "metadata": {},
   "outputs": [],
   "source": [
    "import torch\n",
    "import torch.nn as nn\n",
    "\n",
    "class Network(nn.Module):\n",
    "    def __init__(self, num_classes):\n",
    "        super().__init__()\n",
    "        self.conv1 = nn.Conv2d(1, 32, kernel_size=3)\n",
    "        self.bn1 = nn.BatchNorm2d(32)\n",
    "        self.relu1 = nn.ReLU()\n",
    "        self.pool = nn.MaxPool2d(kernel_size=2, stride=2)\n",
    "\n",
    "        # TODO: rest of layers (1.5 points)  \n",
    "        # your code here\n",
    "        self.conv2 = nn.Conv2d(32, 64, kernel_size=3)\n",
    "        self.bn2 = nn.BatchNorm2d(64)\n",
    "        self.relu2 = nn.ReLU()\n",
    "        \n",
    "        self.pool2 = nn.MaxPool2d(kernel_size=2, stride=2)\n",
    "        \n",
    "        self.fc1 = nn.Linear(64 * 5 * 5, 128)\n",
    "        self.relu3 = nn.ReLU()\n",
    "        \n",
    "        self.fc2 = nn.Linear(128, num_classes)\n",
    "        # ...\n",
    "\n",
    "    def forward(self, x):\n",
    "        x = self.conv1(x) \n",
    "        x = self.bn1(x)  \n",
    "        x = self.relu1(x)  \n",
    "        x = self.pool(x)\n",
    "\n",
    "        # TODO: fill the rest part, you may need more lines like x = ... (2 points)\n",
    "        # your code here\n",
    "        x = self.conv2(x)\n",
    "        \n",
    "        x = self.bn2(x)\n",
    "        \n",
    "        x = self.relu2(x)\n",
    "        \n",
    "        x = self.pool2(x)\n",
    "                \n",
    "        x = x.view(-1, 64 * 5 * 5) \n",
    "        \n",
    "        x = self.fc1(x)\n",
    "        \n",
    "        x = self.relu3(x)\n",
    "        \n",
    "        x = self.fc2(x)\n",
    "\n",
    "        return x\n"
   ]
  },
  {
   "cell_type": "markdown",
   "metadata": {},
   "source": [
    "## Part 3. Train and test your CNN model\n"
   ]
  },
  {
   "cell_type": "code",
   "execution_count": 9,
   "metadata": {},
   "outputs": [],
   "source": [
    "# instantiate a network\n",
    "net = Network(num_classes=5)\n",
    "\n",
    "# evaluation function\n",
    "def eval(net, data_loader):\n",
    "    use_cuda = torch.cuda.is_available()\n",
    "    if use_cuda:\n",
    "        net = net.cuda()\n",
    "    net.eval()\n",
    "    correct = 0.0\n",
    "    num_images = 0.0\n",
    "    for i_batch, (images, labels) in enumerate(data_loader):\n",
    "        if use_cuda:\n",
    "            images = images.cuda()\n",
    "            labels = labels.cuda()\n",
    "        outs = net(images) \n",
    "#         _, preds = outs.max(1)\n",
    "        preds = outs.argmax(dim=1)\n",
    "        correct += preds.eq(labels).sum()\n",
    "        num_images += len(labels)\n",
    "\n",
    "    acc = correct / num_images\n",
    "    return acc\n",
    "\n",
    "# training function\n",
    "def train(net, train_loader, valid_loader):\n",
    "    loss_function = torch.nn.CrossEntropyLoss()\n",
    "    # TODO: build your SGD optimizer with learning rate=0.01, momentum=0.9, no weight decay (0.5 points)\n",
    "    # your code here\n",
    "    optimizer = optim.SGD(net.parameters(), lr=0.01, momentum=0.9, weight_decay=0)\n",
    "\n",
    "\n",
    "    use_cuda = torch.cuda.is_available()\n",
    "    if use_cuda:\n",
    "        net = net.cuda()\n",
    "        \n",
    "    epoches = 10\n",
    "    for epoch in range(epoches):\n",
    "        net.train() \n",
    "        correct = 0.0 # used to accumulate number of correctly recognized images\n",
    "        num_images = 0.0 # used to accumulate number of images\n",
    "        for i_batch, (images, labels) in enumerate(train_loader):\n",
    "            if use_cuda:\n",
    "                images = images.cuda()\n",
    "                labels = labels.cuda()\n",
    "            # TODO: rest of the training code\n",
    "            # your code here, including the forward propagation (0.75 points), \n",
    "            # backward propagation (0.75 points) and calculating the accuracy (0.5 points)\n",
    "            optimizer.zero_grad()\n",
    "            outs = net(images) \n",
    "            loss = loss_function(outs, labels)\n",
    "            loss.backward()\n",
    "            optimizer.step()\n",
    "            preds = outs.argmax(dim=1)\n",
    "            correct += preds.eq(labels).sum().item()\n",
    "            num_images += len(labels)            \n",
    "            \n",
    "        acc = correct / num_images\n",
    "        acc_eval = eval(net, valid_loader)\n",
    "        print('epoch: %d, lr: %f, accuracy: %f, loss: %f, valid accuracy: %f' % (epoch, optimizer.param_groups[0]['lr'], acc, loss.item(), acc_eval))\n",
    "\n",
    "    return net"
   ]
  },
  {
   "cell_type": "markdown",
   "metadata": {},
   "source": [
    "### Part 3.2. Train and test your network "
   ]
  },
  {
   "cell_type": "code",
   "execution_count": 10,
   "metadata": {
    "scrolled": true
   },
   "outputs": [
    {
     "name": "stdout",
     "output_type": "stream",
     "text": [
      "Please wait patiently, it may take some seconds...\n",
      "epoch: 0, lr: 0.010000, accuracy: 0.873640, loss: 0.108417, valid accuracy: 0.914800\n",
      "epoch: 1, lr: 0.010000, accuracy: 0.916960, loss: 0.109324, valid accuracy: 0.921200\n",
      "epoch: 2, lr: 0.010000, accuracy: 0.928960, loss: 0.047823, valid accuracy: 0.927600\n",
      "epoch: 3, lr: 0.010000, accuracy: 0.938680, loss: 0.056533, valid accuracy: 0.929600\n",
      "epoch: 4, lr: 0.010000, accuracy: 0.943160, loss: 0.064582, valid accuracy: 0.933800\n",
      "epoch: 5, lr: 0.010000, accuracy: 0.952080, loss: 0.208808, valid accuracy: 0.932800\n",
      "epoch: 6, lr: 0.010000, accuracy: 0.954600, loss: 0.120454, valid accuracy: 0.933000\n",
      "epoch: 7, lr: 0.010000, accuracy: 0.958120, loss: 0.100162, valid accuracy: 0.929000\n",
      "epoch: 8, lr: 0.010000, accuracy: 0.959400, loss: 0.289316, valid accuracy: 0.936600\n",
      "epoch: 9, lr: 0.010000, accuracy: 0.966640, loss: 0.106166, valid accuracy: 0.937000\n",
      "accuracy on testing data: 0.933600\n"
     ]
    }
   ],
   "source": [
    "print('Please wait patiently, it may take some seconds...')\n",
    "# TODO: train your network here (0.75 points)\n",
    "# your code here\n",
    "trained_net = train(net, train_loader, valid_loader)\n",
    "\n",
    "# TODO: test your network here on\n",
    "acc_test = eval(trained_net, test_loader)\n",
    "\n",
    "print('accuracy on testing data: %f' % acc_test) #  a reference output is provided below:"
   ]
  },
  {
   "cell_type": "markdown",
   "metadata": {},
   "source": [
    "### Part 3.3. Modification for your training \n"
   ]
  },
  {
   "cell_type": "markdown",
   "metadata": {},
   "source": [
    "### WEIGHT DECAY"
   ]
  },
  {
   "cell_type": "code",
   "execution_count": 11,
   "metadata": {},
   "outputs": [
    {
     "name": "stdout",
     "output_type": "stream",
     "text": [
      "Please wait patiently, it may take some seconds...\n",
      "epoch: 0, lr: 0.010000, accuracy: 0.870920, loss: 0.324912, valid accuracy: 0.905400\n",
      "epoch: 1, lr: 0.010000, accuracy: 0.915320, loss: 0.237961, valid accuracy: 0.922200\n",
      "epoch: 2, lr: 0.010000, accuracy: 0.928560, loss: 0.055682, valid accuracy: 0.927000\n",
      "epoch: 3, lr: 0.010000, accuracy: 0.935400, loss: 0.043890, valid accuracy: 0.922400\n",
      "epoch: 4, lr: 0.010000, accuracy: 0.938600, loss: 0.180154, valid accuracy: 0.928000\n",
      "epoch: 5, lr: 0.010000, accuracy: 0.944560, loss: 0.125482, valid accuracy: 0.930200\n",
      "epoch: 6, lr: 0.010000, accuracy: 0.949680, loss: 0.113018, valid accuracy: 0.926800\n",
      "epoch: 7, lr: 0.010000, accuracy: 0.951760, loss: 0.212010, valid accuracy: 0.920000\n",
      "epoch: 8, lr: 0.010000, accuracy: 0.957080, loss: 0.317665, valid accuracy: 0.930000\n",
      "epoch: 9, lr: 0.010000, accuracy: 0.962200, loss: 0.106011, valid accuracy: 0.930400\n",
      "accuracy on testing data: 0.923400\n"
     ]
    }
   ],
   "source": [
    "#****WEIGHT DECAY\n",
    "\n",
    "#  TODO: Improve your network performance here\n",
    " # instantiate a network\n",
    "net = Network(num_classes=5)\n",
    "\n",
    "# evaluation function\n",
    "def eval(net, data_loader):\n",
    "    use_cuda = torch.cuda.is_available()\n",
    "    if use_cuda:\n",
    "        net = net.cuda()\n",
    "    net.eval()\n",
    "    correct = 0.0\n",
    "    num_images = 0.0\n",
    "    for i_batch, (images, labels) in enumerate(data_loader):\n",
    "        if use_cuda:\n",
    "            images = images.cuda()\n",
    "            labels = labels.cuda()\n",
    "        outs = net(images) \n",
    "#         _, preds = outs.max(1)\n",
    "        preds = outs.argmax(dim=1)\n",
    "        correct += preds.eq(labels).sum()\n",
    "        num_images += len(labels)\n",
    "\n",
    "    acc = correct / num_images\n",
    "    return acc\n",
    "\n",
    "# training function\n",
    "def train(net, train_loader, valid_loader):\n",
    "    loss_function = torch.nn.CrossEntropyLoss()\n",
    "    # TODO: build your SGD optimizer with learning rate=0.01, momentum=0.9, no weight decay (0.5 points)\n",
    "    # your code here\n",
    "    optimizer = optim.SGD(net.parameters(), lr=0.01, momentum=0.7, weight_decay=0.0001)\n",
    "\n",
    "\n",
    "    use_cuda = torch.cuda.is_available()\n",
    "    if use_cuda:\n",
    "        net = net.cuda()\n",
    "        \n",
    "    epoches = 10\n",
    "    for epoch in range(epoches):\n",
    "        net.train() \n",
    "        correct = 0.0 # used to accumulate number of correctly recognized images\n",
    "        num_images = 0.0 # used to accumulate number of images\n",
    "        for i_batch, (images, labels) in enumerate(train_loader):\n",
    "            if use_cuda:\n",
    "                images = images.cuda()\n",
    "                labels = labels.cuda()\n",
    "            # TODO: rest of the training code\n",
    "            # your code here, including the forward propagation (0.75 points), \n",
    "            # backward propagation (0.75 points) and calculating the accuracy (0.5 points)\n",
    "            optimizer.zero_grad()\n",
    "            outs = net(images) \n",
    "            loss = loss_function(outs, labels)\n",
    "            loss.backward()\n",
    "            optimizer.step()\n",
    "            preds = outs.argmax(dim=1)\n",
    "            correct += preds.eq(labels).sum().item()\n",
    "            num_images += len(labels)            \n",
    "            \n",
    "        acc = correct / num_images\n",
    "        acc_eval = eval(net, valid_loader)\n",
    "        print('epoch: %d, lr: %f, accuracy: %f, loss: %f, valid accuracy: %f' % (epoch, optimizer.param_groups[0]['lr'], acc, loss.item(), acc_eval))\n",
    "\n",
    "    return net\n",
    "\n",
    "print('Please wait patiently, it may take some seconds...')\n",
    "# TODO: train your network here (0.75 points)\n",
    "# your code here\n",
    "trained_net = train(net, train_loader, valid_loader)\n",
    "\n",
    "# TODO: test your network here on\n",
    "acc_test = eval(trained_net, test_loader)\n",
    "\n",
    "print('accuracy on testing data: %f' % acc_test) #  a reference output is provided below:\n",
    "\n",
    " \n",
    "#  a reference output is provided below:"
   ]
  },
  {
   "cell_type": "markdown",
   "metadata": {
    "tags": []
   },
   "source": [
    "### MORE EPOCHES"
   ]
  },
  {
   "cell_type": "code",
   "execution_count": 12,
   "metadata": {},
   "outputs": [
    {
     "name": "stdout",
     "output_type": "stream",
     "text": [
      "Please wait patiently, it may take some seconds...\n",
      "epoch: 0, lr: 0.010000, accuracy: 0.872280, loss: 0.361149, valid accuracy: 0.870800\n",
      "epoch: 1, lr: 0.010000, accuracy: 0.917960, loss: 0.263742, valid accuracy: 0.911600\n",
      "epoch: 2, lr: 0.010000, accuracy: 0.926880, loss: 0.271519, valid accuracy: 0.926600\n",
      "epoch: 3, lr: 0.010000, accuracy: 0.936800, loss: 0.404834, valid accuracy: 0.932400\n",
      "epoch: 4, lr: 0.010000, accuracy: 0.941560, loss: 0.146818, valid accuracy: 0.932000\n",
      "epoch: 5, lr: 0.010000, accuracy: 0.947560, loss: 0.040540, valid accuracy: 0.930400\n",
      "epoch: 6, lr: 0.010000, accuracy: 0.955680, loss: 0.127828, valid accuracy: 0.934600\n",
      "epoch: 7, lr: 0.010000, accuracy: 0.957120, loss: 0.159827, valid accuracy: 0.928600\n",
      "epoch: 8, lr: 0.010000, accuracy: 0.962200, loss: 0.074239, valid accuracy: 0.920000\n",
      "epoch: 9, lr: 0.010000, accuracy: 0.965720, loss: 0.188523, valid accuracy: 0.935600\n",
      "epoch: 10, lr: 0.010000, accuracy: 0.967440, loss: 0.230783, valid accuracy: 0.924800\n",
      "epoch: 11, lr: 0.010000, accuracy: 0.974080, loss: 0.101742, valid accuracy: 0.930400\n",
      "epoch: 12, lr: 0.010000, accuracy: 0.975760, loss: 0.081358, valid accuracy: 0.931000\n",
      "epoch: 13, lr: 0.010000, accuracy: 0.977040, loss: 0.018028, valid accuracy: 0.933600\n",
      "epoch: 14, lr: 0.010000, accuracy: 0.979800, loss: 0.071607, valid accuracy: 0.926400\n",
      "epoch: 15, lr: 0.010000, accuracy: 0.981800, loss: 0.005100, valid accuracy: 0.934800\n",
      "epoch: 16, lr: 0.010000, accuracy: 0.986400, loss: 0.076451, valid accuracy: 0.937600\n",
      "epoch: 17, lr: 0.010000, accuracy: 0.987320, loss: 0.013391, valid accuracy: 0.933600\n",
      "epoch: 18, lr: 0.010000, accuracy: 0.989520, loss: 0.005427, valid accuracy: 0.933800\n",
      "epoch: 19, lr: 0.010000, accuracy: 0.988840, loss: 0.039471, valid accuracy: 0.934800\n",
      "accuracy on testing data: 0.932600\n"
     ]
    }
   ],
   "source": [
    "#****MORE EPOCHES\n",
    "\n",
    "#  TODO: Improve your network performance here\n",
    " # instantiate a network\n",
    "net = Network(num_classes=5)\n",
    "\n",
    "# evaluation function\n",
    "def eval(net, data_loader):\n",
    "    use_cuda = torch.cuda.is_available()\n",
    "    if use_cuda:\n",
    "        net = net.cuda()\n",
    "    net.eval()\n",
    "    correct = 0.0\n",
    "    num_images = 0.0\n",
    "    for i_batch, (images, labels) in enumerate(data_loader):\n",
    "        if use_cuda:\n",
    "            images = images.cuda()\n",
    "            labels = labels.cuda()\n",
    "        outs = net(images) \n",
    "#         _, preds = outs.max(1)\n",
    "        preds = outs.argmax(dim=1)\n",
    "        correct += preds.eq(labels).sum()\n",
    "        num_images += len(labels)\n",
    "\n",
    "    acc = correct / num_images\n",
    "    return acc\n",
    "\n",
    "# training function\n",
    "def train(net, train_loader, valid_loader):\n",
    "    loss_function = torch.nn.CrossEntropyLoss()\n",
    "    # TODO: build your SGD optimizer with learning rate=0.01, momentum=0.9, no weight decay (0.5 points)\n",
    "    # your code here\n",
    "    optimizer = optim.SGD(net.parameters(), lr=0.01, momentum=0.9, weight_decay=0)\n",
    "\n",
    "\n",
    "    use_cuda = torch.cuda.is_available()\n",
    "    if use_cuda:\n",
    "        net = net.cuda()\n",
    "        \n",
    "    epoches = 20\n",
    "    for epoch in range(epoches):\n",
    "        net.train() \n",
    "        correct = 0.0 # used to accumulate number of correctly recognized images\n",
    "        num_images = 0.0 # used to accumulate number of images\n",
    "        for i_batch, (images, labels) in enumerate(train_loader):\n",
    "            if use_cuda:\n",
    "                images = images.cuda()\n",
    "                labels = labels.cuda()\n",
    "            # TODO: rest of the training code\n",
    "            # your code here, including the forward propagation (0.75 points), \n",
    "            # backward propagation (0.75 points) and calculating the accuracy (0.5 points)\n",
    "            optimizer.zero_grad()\n",
    "            outs = net(images) \n",
    "            loss = loss_function(outs, labels)\n",
    "            loss.backward()\n",
    "            optimizer.step()\n",
    "            preds = outs.argmax(dim=1)\n",
    "            correct += preds.eq(labels).sum().item()\n",
    "            num_images += len(labels)            \n",
    "            \n",
    "        acc = correct / num_images\n",
    "        acc_eval = eval(net, valid_loader)\n",
    "        print('epoch: %d, lr: %f, accuracy: %f, loss: %f, valid accuracy: %f' % (epoch, optimizer.param_groups[0]['lr'], acc, loss.item(), acc_eval))\n",
    "\n",
    "    return net\n",
    "\n",
    "print('Please wait patiently, it may take some seconds...')\n",
    "# TODO: train your network here (0.75 points)\n",
    "# your code here\n",
    "trained_net = train(net, train_loader, valid_loader)\n",
    "\n",
    "# TODO: test your network here on\n",
    "acc_test = eval(trained_net, test_loader)\n",
    "\n",
    "print('accuracy on testing data: %f' % acc_test) #  a reference output is provided below:"
   ]
  }
 ],
 "metadata": {
  "kernelspec": {
   "display_name": "Python 3 (ipykernel)",
   "language": "python",
   "name": "python3"
  },
  "language_info": {
   "codemirror_mode": {
    "name": "ipython",
    "version": 3
   },
   "file_extension": ".py",
   "mimetype": "text/x-python",
   "name": "python",
   "nbconvert_exporter": "python",
   "pygments_lexer": "ipython3",
   "version": "3.10.6"
  },
  "pycharm": {
   "stem_cell": {
    "cell_type": "raw",
    "metadata": {
     "collapsed": false
    },
    "source": []
   }
  }
 },
 "nbformat": 4,
 "nbformat_minor": 4
}
